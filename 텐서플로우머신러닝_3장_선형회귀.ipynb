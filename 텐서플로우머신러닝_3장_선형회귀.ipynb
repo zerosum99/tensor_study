{
 "cells": [
  {
   "cell_type": "markdown",
   "metadata": {},
   "source": [
    "# 1.  학습 데이터 만들기"
   ]
  },
  {
   "cell_type": "code",
   "execution_count": 1,
   "metadata": {},
   "outputs": [],
   "source": [
    "import numpy as np"
   ]
  },
  {
   "cell_type": "code",
   "execution_count": 2,
   "metadata": {},
   "outputs": [],
   "source": [
    "import matplotlib.pyplot as plt"
   ]
  },
  {
   "cell_type": "code",
   "execution_count": 3,
   "metadata": {},
   "outputs": [],
   "source": [
    "%matplotlib inline"
   ]
  },
  {
   "cell_type": "code",
   "execution_count": 4,
   "metadata": {},
   "outputs": [],
   "source": [
    "x_train = np.linspace(-1,1,101)"
   ]
  },
  {
   "cell_type": "markdown",
   "metadata": {},
   "source": [
    "##  기준값을 구하기 위해 편향을  정의"
   ]
  },
  {
   "cell_type": "code",
   "execution_count": 8,
   "metadata": {},
   "outputs": [
    {
     "data": {
      "text/plain": [
       "array([-1.97613166e+00, -1.62936564e-02,  6.31361471e-01, -9.17750611e-01,\n",
       "        3.30183453e-01,  1.12857506e+00, -2.33985314e+00,  6.60446185e-01,\n",
       "       -1.56517030e+00, -2.10052278e+00, -1.12359247e-01,  9.38960737e-02,\n",
       "        2.30494284e+00,  1.89500656e+00, -6.84983967e-01,  3.99651903e-01,\n",
       "        1.51165388e+00,  3.57775655e-01, -1.22559626e+00, -4.15984016e-01,\n",
       "        1.09867921e+00,  3.82028824e-01, -1.09902759e+00, -2.76490924e-01,\n",
       "       -7.30278467e-01, -3.86889113e-01,  7.56975109e-02,  2.07787320e-01,\n",
       "       -1.57079432e+00,  1.34573902e+00, -1.50984790e-01,  1.15942225e+00,\n",
       "        9.05274475e-01, -1.26946065e+00, -4.57317229e-02,  9.11267848e-01,\n",
       "       -9.29769055e-01, -1.97226355e+00,  1.93379752e+00, -7.89902607e-01,\n",
       "       -6.83552580e-01,  1.65069663e-01, -2.62393173e+00, -8.49869658e-01,\n",
       "       -3.72713470e-01,  3.04034577e-01, -1.71636081e-01,  1.06053046e-01,\n",
       "        1.88381742e+00, -3.62403272e-01, -1.21375930e+00, -6.18309405e-01,\n",
       "       -2.93564699e+00, -1.15913611e+00,  1.01184777e+00, -5.29958549e-01,\n",
       "       -2.08869593e-01,  2.64516050e-01,  1.29021136e-01, -5.49618875e-01,\n",
       "       -9.41675345e-01,  1.05710031e+00, -1.01265471e+00, -2.80096678e-01,\n",
       "       -8.20340646e-01,  1.19304055e-01,  3.00595168e-01, -5.74146236e-01,\n",
       "        3.76817247e-01,  4.74516939e-01, -1.48041222e-01, -1.25012008e+00,\n",
       "        1.10909813e+00,  4.92603770e-01,  7.40806600e-02, -5.48374991e-01,\n",
       "        1.47089354e+00,  1.31094811e-01, -1.28411245e+00,  4.87241189e-01,\n",
       "        2.17744358e-01,  3.30821368e-01,  9.96001070e-01, -4.80159199e-01,\n",
       "        6.01431615e-01, -1.00300589e+00, -2.21729620e-01,  2.13244891e-01,\n",
       "       -6.70491954e-01,  2.12312092e-01,  2.00178952e-01,  1.79621007e+00,\n",
       "        1.06696099e+00, -2.26645025e-03,  1.75629694e+00, -3.25269982e-01,\n",
       "       -1.99231600e-01,  2.15769181e-01,  1.44303951e+00, -1.24852653e+00,\n",
       "       -7.25397084e-02])"
      ]
     },
     "execution_count": 8,
     "metadata": {},
     "output_type": "execute_result"
    }
   ],
   "source": [
    "np.random.randn(*x_train.shape)"
   ]
  },
  {
   "cell_type": "code",
   "execution_count": 9,
   "metadata": {},
   "outputs": [
    {
     "data": {
      "text/plain": [
       "array([ 0.36232584,  0.40589663, -0.01650108, -0.33441379, -0.44111226,\n",
       "        0.10154034,  0.0902676 ,  0.27655693, -0.27164938,  1.07379088,\n",
       "       -0.56309382,  0.06846653, -0.62599199, -0.15746523, -0.41946957,\n",
       "        0.05328127, -0.42361996, -0.99485742,  0.02478214,  0.14930091,\n",
       "       -0.16305865,  0.10482253, -0.0974858 ,  0.41387109,  0.24669051,\n",
       "        0.2619002 ,  0.03728549, -0.09273027, -0.33272418, -0.40397382,\n",
       "        0.12630832,  0.11887306,  0.29474517,  0.37748623, -0.26533373,\n",
       "       -0.08974333,  0.16029906, -0.25027766,  0.21849118, -0.03944308,\n",
       "        0.21858943,  0.00601614,  0.09508811,  0.52539025, -0.31237988,\n",
       "       -0.20237693,  0.19826522, -0.04277091, -0.26303471, -0.04069198,\n",
       "       -0.01203047,  0.27927788, -0.20984776,  0.18312446, -0.26844519,\n",
       "        0.32717756, -0.96937599,  0.36199408, -0.39180681,  0.17096338,\n",
       "        0.50361334, -0.25882345, -0.15485015, -0.24277096, -0.04246111,\n",
       "       -0.50592769,  0.04696199,  0.02783537, -0.60380334,  0.14323611,\n",
       "        0.35585895,  0.35707212, -0.37030608, -0.39796632,  0.12477391,\n",
       "        0.27536131,  0.21201378,  0.00371176, -0.35334823,  0.06563407,\n",
       "       -0.32238429,  0.15845055,  0.33652817, -0.07049935, -0.13553667,\n",
       "        0.24401474,  0.00753242,  0.16321781, -0.05014762, -0.27923155,\n",
       "        0.11839498, -0.49791607,  0.12271981,  0.51522913, -0.04946788,\n",
       "        0.04626952, -0.30442566, -0.25879174, -0.51043106,  0.23259009,\n",
       "        0.01453636])"
      ]
     },
     "execution_count": 9,
     "metadata": {},
     "output_type": "execute_result"
    }
   ],
   "source": [
    "np.random.randn(*x_train.shape) * 0.33"
   ]
  },
  {
   "cell_type": "code",
   "execution_count": 6,
   "metadata": {},
   "outputs": [],
   "source": [
    "y_train = 2 * x_train + np.random.randn(*x_train.shape) * 0.33"
   ]
  },
  {
   "cell_type": "code",
   "execution_count": 7,
   "metadata": {},
   "outputs": [
    {
     "data": {
      "text/plain": [
       "<matplotlib.collections.PathCollection at 0x11313bc88>"
      ]
     },
     "execution_count": 7,
     "metadata": {},
     "output_type": "execute_result"
    },
    {
     "data": {
      "image/png": "[encoded data removed]",
      "text/plain": [
       "<Figure size 432x288 with 1 Axes>"
      ]
     },
     "metadata": {
      "needs_background": "light"
     },
     "output_type": "display_data"
    }
   ],
   "source": [
    "plt.scatter(x_train, y_train)"
   ]
  },
  {
   "cell_type": "code",
   "execution_count": null,
   "metadata": {},
   "outputs": [],
   "source": []
  },
  {
   "cell_type": "markdown",
   "metadata": {},
   "source": [
    "# 2. 선형회귀 문제 해결하기"
   ]
  },
  {
   "cell_type": "code",
   "execution_count": 10,
   "metadata": {},
   "outputs": [],
   "source": [
    "import tensorflow as tf"
   ]
  },
  {
   "cell_type": "markdown",
   "metadata": {},
   "source": [
    "## 2-1 하이퍼파라미터 지정 : 학습률과 에포크"
   ]
  },
  {
   "cell_type": "code",
   "execution_count": 11,
   "metadata": {},
   "outputs": [],
   "source": [
    "learning_rate = 0.01"
   ]
  },
  {
   "cell_type": "code",
   "execution_count": 12,
   "metadata": {},
   "outputs": [],
   "source": [
    "training_epochs = 100"
   ]
  },
  {
   "cell_type": "code",
   "execution_count": null,
   "metadata": {},
   "outputs": [],
   "source": []
  },
  {
   "cell_type": "code",
   "execution_count": 13,
   "metadata": {},
   "outputs": [],
   "source": [
    "X = tf.placeholder(tf.float32)"
   ]
  },
  {
   "cell_type": "code",
   "execution_count": 14,
   "metadata": {},
   "outputs": [],
   "source": [
    "Y = tf.placeholder(tf.float32)"
   ]
  },
  {
   "cell_type": "markdown",
   "metadata": {},
   "source": [
    "## 2-2 모델 정의"
   ]
  },
  {
   "cell_type": "code",
   "execution_count": 15,
   "metadata": {},
   "outputs": [],
   "source": [
    "def model(X, w) :\n",
    "    return tf.multiply(X, w)"
   ]
  },
  {
   "cell_type": "code",
   "execution_count": null,
   "metadata": {},
   "outputs": [],
   "source": []
  },
  {
   "cell_type": "code",
   "execution_count": 16,
   "metadata": {},
   "outputs": [
    {
     "name": "stdout",
     "output_type": "stream",
     "text": [
      "WARNING:tensorflow:From /Users/dahlmoon/anaconda/lib/python3.7/site-packages/tensorflow/python/framework/op_def_library.py:263: colocate_with (from tensorflow.python.framework.ops) is deprecated and will be removed in a future version.\n",
      "Instructions for updating:\n",
      "Colocations handled automatically by placer.\n"
     ]
    }
   ],
   "source": [
    "w = tf.Variable(0.0, name=\"weights\")"
   ]
  },
  {
   "cell_type": "markdown",
   "metadata": {},
   "source": [
    "## 2-3 비용함수 정의"
   ]
  },
  {
   "cell_type": "code",
   "execution_count": 17,
   "metadata": {},
   "outputs": [],
   "source": [
    "y_model = model(X, w)"
   ]
  },
  {
   "cell_type": "code",
   "execution_count": 18,
   "metadata": {},
   "outputs": [],
   "source": [
    "cost = tf.square(Y-y_model)"
   ]
  },
  {
   "cell_type": "markdown",
   "metadata": {},
   "source": [
    "##  2-4 비용 최적화 처리"
   ]
  },
  {
   "cell_type": "code",
   "execution_count": 19,
   "metadata": {},
   "outputs": [],
   "source": [
    "train_op = tf.train.GradientDescentOptimizer(learning_rate).minimize(cost)"
   ]
  },
  {
   "cell_type": "markdown",
   "metadata": {},
   "source": [
    "## 2-5 세션 만들기 "
   ]
  },
  {
   "cell_type": "code",
   "execution_count": 20,
   "metadata": {},
   "outputs": [],
   "source": [
    "sess = tf.Session()"
   ]
  },
  {
   "cell_type": "markdown",
   "metadata": {},
   "source": [
    "## 2-6  변수 초기화 하기"
   ]
  },
  {
   "cell_type": "code",
   "execution_count": 21,
   "metadata": {},
   "outputs": [],
   "source": [
    "init = tf.global_variables_initializer()"
   ]
  },
  {
   "cell_type": "code",
   "execution_count": 22,
   "metadata": {},
   "outputs": [],
   "source": [
    "sess.run(init)"
   ]
  },
  {
   "cell_type": "code",
   "execution_count": null,
   "metadata": {},
   "outputs": [],
   "source": []
  },
  {
   "cell_type": "markdown",
   "metadata": {},
   "source": [
    "## 3. 학습 시키기"
   ]
  },
  {
   "cell_type": "code",
   "execution_count": 23,
   "metadata": {},
   "outputs": [],
   "source": [
    "for epoch in range(training_epochs) :\n",
    "    for (x,y) in zip(x_train, y_train) :\n",
    "        sess.run(train_op, feed_dict={X : x, Y : y})\n",
    "        "
   ]
  },
  {
   "cell_type": "code",
   "execution_count": 24,
   "metadata": {},
   "outputs": [],
   "source": [
    "w_val = sess.run(w)"
   ]
  },
  {
   "cell_type": "code",
   "execution_count": 25,
   "metadata": {},
   "outputs": [],
   "source": [
    "sess.close()"
   ]
  },
  {
   "cell_type": "code",
   "execution_count": 33,
   "metadata": {},
   "outputs": [
    {
     "data": {
      "image/png": "[encoded data removed]",
      "text/plain": [
       "<Figure size 432x288 with 1 Axes>"
      ]
     },
     "metadata": {
      "needs_background": "light"
     },
     "output_type": "display_data"
    }
   ],
   "source": [
    "plt.scatter(x_train, y_train)\n",
    "\n",
    "plt.plot(x_train, y_learned, 'r' )\n",
    "plt.show()"
   ]
  },
  {
   "cell_type": "code",
   "execution_count": 32,
   "metadata": {},
   "outputs": [
    {
     "data": {
      "image/png": "[encoded data removed]",
      "text/plain": [
       "<Figure size 432x288 with 1 Axes>"
      ]
     },
     "metadata": {
      "needs_background": "light"
     },
     "output_type": "display_data"
    }
   ],
   "source": [
    "plt.plot(x_train, y_learned, 'r' )\n",
    "plt.show()"
   ]
  },
  {
   "cell_type": "code",
   "execution_count": 34,
   "metadata": {},
   "outputs": [],
   "source": [
    "y_learned = x_train * w_val"
   ]
  },
  {
   "cell_type": "code",
   "execution_count": 40,
   "metadata": {},
   "outputs": [
    {
     "data": {
      "text/plain": [
       "array([-2.00199199, -1.96195215, -1.92191231, -1.88187247, -1.84183263,\n",
       "       -1.80179279, -1.76175295, -1.72171311, -1.68167327, -1.64163343,\n",
       "       -1.60159359, -1.56155375, -1.52151391, -1.48147407, -1.44143423,\n",
       "       -1.40139439, -1.36135455, -1.32131471, -1.28127487, -1.24123503,\n",
       "       -1.20119519, -1.16115535, -1.12111551, -1.08107567, -1.04103583,\n",
       "       -1.00099599, -0.96095615, -0.92091631, -0.88087647, -0.84083663,\n",
       "       -0.80079679, -0.76075696, -0.72071712, -0.68067728, -0.64063744,\n",
       "       -0.6005976 , -0.56055776, -0.52051792, -0.48047808, -0.44043824,\n",
       "       -0.4003984 , -0.36035856, -0.32031872, -0.28027888, -0.24023904,\n",
       "       -0.2001992 , -0.16015936, -0.12011952, -0.08007968, -0.04003984,\n",
       "        0.        ,  0.04003984,  0.08007968,  0.12011952,  0.16015936,\n",
       "        0.2001992 ,  0.24023904,  0.28027888,  0.32031872,  0.36035856,\n",
       "        0.4003984 ,  0.44043824,  0.48047808,  0.52051792,  0.56055776,\n",
       "        0.6005976 ,  0.64063744,  0.68067728,  0.72071712,  0.76075696,\n",
       "        0.80079679,  0.84083663,  0.88087647,  0.92091631,  0.96095615,\n",
       "        1.00099599,  1.04103583,  1.08107567,  1.12111551,  1.16115535,\n",
       "        1.20119519,  1.24123503,  1.28127487,  1.32131471,  1.36135455,\n",
       "        1.40139439,  1.44143423,  1.48147407,  1.52151391,  1.56155375,\n",
       "        1.60159359,  1.64163343,  1.68167327,  1.72171311,  1.76175295,\n",
       "        1.80179279,  1.84183263,  1.88187247,  1.92191231,  1.96195215,\n",
       "        2.00199199])"
      ]
     },
     "execution_count": 40,
     "metadata": {},
     "output_type": "execute_result"
    }
   ],
   "source": [
    "y_learned"
   ]
  },
  {
   "cell_type": "code",
   "execution_count": 37,
   "metadata": {},
   "outputs": [
    {
     "data": {
      "text/plain": [
       "[<matplotlib.lines.Line2D at 0xb2b705a90>]"
      ]
     },
     "execution_count": 37,
     "metadata": {},
     "output_type": "execute_result"
    },
    {
     "data": {
      "image/png": "[encoded data removed]",
      "text/plain": [
       "<Figure size 432x288 with 1 Axes>"
      ]
     },
     "metadata": {
      "needs_background": "light"
     },
     "output_type": "display_data"
    }
   ],
   "source": [
    "plt.plot(x_train, y_learned,  'r')"
   ]
  },
  {
   "cell_type": "code",
   "execution_count": 43,
   "metadata": {},
   "outputs": [
    {
     "data": {
      "text/plain": [
       "<matplotlib.collections.PathCollection at 0xb2b5d28d0>"
      ]
     },
     "execution_count": 43,
     "metadata": {},
     "output_type": "execute_result"
    },
    {
     "data": {
      "image/png": "[encoded data removed]",
      "text/plain": [
       "<Figure size 432x288 with 1 Axes>"
      ]
     },
     "metadata": {
      "needs_background": "light"
     },
     "output_type": "display_data"
    }
   ],
   "source": [
    "plt.scatter(x_train, y_learned, marker='o')\n"
   ]
  },
  {
   "cell_type": "code",
   "execution_count": null,
   "metadata": {},
   "outputs": [],
   "source": []
  }
 ],
 "metadata": {
  "kernelspec": {
   "display_name": "Python 3",
   "language": "python",
   "name": "python3"
  },
  "language_info": {
   "codemirror_mode": {
    "name": "ipython",
    "version": 3
   },
   "file_extension": ".py",
   "mimetype": "text/x-python",
   "name": "python",
   "nbconvert_exporter": "python",
   "pygments_lexer": "ipython3",
   "version": "3.7.3"
  }
 },
 "nbformat": 4,
 "nbformat_minor": 2
}
