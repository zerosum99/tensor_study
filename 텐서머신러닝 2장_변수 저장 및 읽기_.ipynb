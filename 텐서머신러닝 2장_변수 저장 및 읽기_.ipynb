{
 "cells": [
  {
   "cell_type": "code",
   "execution_count": 1,
   "metadata": {},
   "outputs": [],
   "source": [
    "import tensorflow as tf"
   ]
  },
  {
   "cell_type": "code",
   "execution_count": 2,
   "metadata": {},
   "outputs": [
    {
     "name": "stdout",
     "output_type": "stream",
     "text": [
      "WARNING:tensorflow:From /Users/dahlmoon/anaconda/lib/python3.7/site-packages/tensorflow/python/framework/op_def_library.py:263: colocate_with (from tensorflow.python.framework.ops) is deprecated and will be removed in a future version.\n",
      "Instructions for updating:\n",
      "Colocations handled automatically by placer.\n"
     ]
    }
   ],
   "source": [
    "\n",
    "\n",
    "g = tf.Graph()\n",
    "\n",
    "with g.as_default() :\n",
    "    v1 = tf.Variable(10, name = \"v1\")\n",
    "    v2 = tf.Variable(11, name = \"v2\")"
   ]
  },
  {
   "cell_type": "markdown",
   "metadata": {},
   "source": [
    "## 변수 저장\n",
    "\n",
    "    - Saver instance 를 생성한다.\n",
    "    - Saver.save(sess, ckpt_path)\n",
    "    -  Saver.restore(sess, ckpt_path)"
   ]
  },
  {
   "cell_type": "code",
   "execution_count": null,
   "metadata": {},
   "outputs": [],
   "source": []
  },
  {
   "cell_type": "code",
   "execution_count": 10,
   "metadata": {},
   "outputs": [
    {
     "name": "stdout",
     "output_type": "stream",
     "text": [
      "job`s ckpt files is save as :  saved/train1\n"
     ]
    }
   ],
   "source": [
    "with tf.Session(graph=g) as sess :\n",
    "\n",
    "    saver = tf.train.Saver()\n",
    "\n",
    "    sess.run(tf.global_variables_initializer())\n",
    "\n",
    "    # 그래프를 돌리다가 Variable 을 저장하고 싶을 때 Saver.save() 메서드를 사용한다.\n",
    "    # args : tf.Session, job`s checkpoint file path\n",
    "    # return : job`s checkpoint file path (String)\n",
    "\n",
    "    ckpt_path = saver.save(sess, \"saved/train1\")\n",
    "\n",
    "    print(\"job`s ckpt files is save as : \", ckpt_path)"
   ]
  },
  {
   "cell_type": "code",
   "execution_count": 11,
   "metadata": {},
   "outputs": [
    {
     "data": {
      "text/plain": [
       "<tensorflow.python.client.session.Session at 0xb26b6e5c0>"
      ]
     },
     "execution_count": 11,
     "metadata": {},
     "output_type": "execute_result"
    }
   ],
   "source": [
    "sess"
   ]
  },
  {
   "cell_type": "markdown",
   "metadata": {},
   "source": [
    "## 변수 읽기"
   ]
  },
  {
   "cell_type": "code",
   "execution_count": 17,
   "metadata": {},
   "outputs": [
    {
     "name": "stdout",
     "output_type": "stream",
     "text": [
      "INFO:tensorflow:Restoring parameters from saved/train1\n",
      "None\n",
      "100\n"
     ]
    }
   ],
   "source": [
    "with tf.Session(graph=g) as sess1 :\n",
    "\n",
    "    # Saver instance 를 생성한다.\n",
    "    # Saver.restore(sess, ckpt_path)\n",
    "\n",
    "    saver = tf.train.Saver()\n",
    "\n",
    "    sess1.run(tf.global_variables_initializer())\n",
    "\n",
    "    # Saver.restore()\n",
    "    # args : tf.Session, job`s checkpoint file path\n",
    "    # return : None\n",
    "\n",
    "    ckpt_path = saver.restore(sess1, \"saved/train1\")\n",
    "    print(ckpt_path)\n",
    "    sess1.run(tf.assign(v1, 100))\n",
    "    \n",
    "    print(sess1.run(v1))\n"
   ]
  },
  {
   "cell_type": "code",
   "execution_count": 18,
   "metadata": {},
   "outputs": [
    {
     "data": {
      "text/plain": [
       "<tensorflow.python.client.session.Session at 0xb26c31978>"
      ]
     },
     "execution_count": 18,
     "metadata": {},
     "output_type": "execute_result"
    }
   ],
   "source": [
    "sess"
   ]
  },
  {
   "cell_type": "markdown",
   "metadata": {},
   "source": [
    "## 저장 파일 읽어오기"
   ]
  },
  {
   "cell_type": "code",
   "execution_count": 19,
   "metadata": {},
   "outputs": [
    {
     "name": "stdout",
     "output_type": "stream",
     "text": [
      "INFO:tensorflow:Restoring parameters from saved/train1\n",
      "None\n",
      "10\n"
     ]
    }
   ],
   "source": [
    "with tf.Session(graph=g) as sess2 :\n",
    "\n",
    "    # Saver instance 를 생성한다.\n",
    "    # Saver.restore(sess, ckpt_path)\n",
    "\n",
    "    saver = tf.train.Saver()\n",
    "\n",
    "    sess2.run(tf.global_variables_initializer())\n",
    "\n",
    "    # Saver.restore()\n",
    "    # args : tf.Session, job`s checkpoint file path\n",
    "    # return : None\n",
    "\n",
    "    ckpt_path = saver.restore(sess2, tf.train.latest_checkpoint(\"saved\"))\n",
    "    print(ckpt_path)\n",
    "    print(sess2.run(v1))\n"
   ]
  },
  {
   "cell_type": "code",
   "execution_count": null,
   "metadata": {},
   "outputs": [],
   "source": []
  }
 ],
 "metadata": {
  "kernelspec": {
   "display_name": "Python 3",
   "language": "python",
   "name": "python3"
  },
  "language_info": {
   "codemirror_mode": {
    "name": "ipython",
    "version": 3
   },
   "file_extension": ".py",
   "mimetype": "text/x-python",
   "name": "python",
   "nbconvert_exporter": "python",
   "pygments_lexer": "ipython3",
   "version": "3.7.3"
  }
 },
 "nbformat": 4,
 "nbformat_minor": 2
}
