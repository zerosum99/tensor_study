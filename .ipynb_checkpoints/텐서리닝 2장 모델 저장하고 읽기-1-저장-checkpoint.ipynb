{
 "cells": [
  {
   "cell_type": "code",
   "execution_count": 1,
   "metadata": {},
   "outputs": [],
   "source": [
    "import tensorflow as tf"
   ]
  },
  {
   "cell_type": "markdown",
   "metadata": {},
   "source": [
    "## 모델 정보 저장"
   ]
  },
  {
   "cell_type": "code",
   "execution_count": 4,
   "metadata": {},
   "outputs": [
    {
     "name": "stdout",
     "output_type": "stream",
     "text": [
      "24.0\n"
     ]
    },
    {
     "data": {
      "text/plain": [
       "'./saved/my_test_model-1000'"
      ]
     },
     "execution_count": 4,
     "metadata": {},
     "output_type": "execute_result"
    }
   ],
   "source": [
    "# Prepare to feed input, i.e. feed_dict and placeholders\n",
    "w1 = tf.placeholder(tf.float32, name=\"w1\")\n",
    "w2 = tf.placeholder(tf.float32, name=\"w2\")\n",
    "b1 = tf.Variable(2.0,dtype=tf.float32, name=\"bias\")\n",
    "feed_dict = {'w1': 4.0, 'w2': 8.0}\n",
    "\n",
    "# Define a test operation that we will restore\n",
    "w3 = w1 + w2\n",
    "w4 = tf.multiply(w3, b1, name=\"op_to_restore\")\n",
    "sess = tf.Session()\n",
    "sess.run(tf.global_variables_initializer())\n",
    "\n",
    "# Create a saver object which will save all the variables\n",
    "saver = tf.train.Saver()\n",
    "\n",
    "# Run the operation by feeding input\n",
    "result = sess.run(w4, {w1:feed_dict['w1'], w2:feed_dict['w2']})\n",
    "print(result)\n",
    "# Prints 24 which is sum of (w1+w2)*b1\n",
    "\n",
    "# Now, save the graph\n",
    "saver.save(sess, './saved/my_test_model', global_step=1000)\n",
    "\n"
   ]
  },
  {
   "cell_type": "code",
   "execution_count": 5,
   "metadata": {},
   "outputs": [
    {
     "name": "stdout",
     "output_type": "stream",
     "text": [
      "checkpoint                              train1.index\r\n",
      "my_test_model-1000.data-00000-of-00001  train1.meta\r\n",
      "my_test_model-1000.index                train2.data-00000-of-00001\r\n",
      "my_test_model-1000.meta                 train2.index\r\n",
      "train1.data-00000-of-00001              train2.meta\r\n"
     ]
    }
   ],
   "source": [
    "%ls ./saved"
   ]
  },
  {
   "cell_type": "code",
   "execution_count": null,
   "metadata": {},
   "outputs": [],
   "source": []
  }
 ],
 "metadata": {
  "kernelspec": {
   "display_name": "Python 3",
   "language": "python",
   "name": "python3"
  },
  "language_info": {
   "codemirror_mode": {
    "name": "ipython",
    "version": 3
   },
   "file_extension": ".py",
   "mimetype": "text/x-python",
   "name": "python",
   "nbconvert_exporter": "python",
   "pygments_lexer": "ipython3",
   "version": "3.7.3"
  }
 },
 "nbformat": 4,
 "nbformat_minor": 2
}
